{
 "cells": [
  {
   "cell_type": "markdown",
   "metadata": {},
   "source": [
    "<p>\n",
    "<font size='5' face='Georgia, Arial'>IIC-2233 Apunte Programación Avanzada</font><br>\n",
    "<font size='1'>Basado en: &copy; 2015 Karim Pichara - Christian Pieringer. Todos los derechos reservados. Modificado el 2018-1.</font>\n",
    "</p>"
   ]
  },
  {
   "cell_type": "markdown",
   "metadata": {},
   "source": [
    "# Tabla de contenidos\n",
    "\n",
    "1. [¿Qué son los objetos?](#¿Qué-son-los-objetos?)\n",
    "2. [¿Qué es OOP?](#¿Qué-es-OOP?)\n",
    "3. [OOP en Python](#OOP-en-Python)"
   ]
  },
  {
   "cell_type": "markdown",
   "metadata": {},
   "source": [
    "## ¿Qué son los objetos?\n",
    "\n",
    "En el mundo real los objetos son elementos tangibles que \n",
    "se pueden manipular y sentir; representan\n",
    "algo que tiene significado para nosotros.\n",
    "\n",
    "En el área de desarrollo de software, un **objeto**\n",
    "es una colección de **datos** que además tiene **comportamientos**\n",
    "asociados. Por una parte, los datos **describen** a los objetos, mientras que los comportamientos **representan acciones** que ocurren en ellos.\n",
    "\n",
    "Pensemos, por ejemplo, en un objeto que represente a un auto. Los **datos** que nos interesan de un auto podrían incluir su marca, su modelo, su año, color, número de motor, kilometraje, cuántas mantenciones ha recibido, y en qué ubicación geográfica se encuentra. Respecto a las **acciones** que queremos realizar sobre el auto podemos pensar en _determinar cuánto falta para su próxima mantención_, _efectuar una nueva mantención_, _conducirlo durante una cierta cantidad de kilómetros_, _calcular su distancia a alguna dirección_, o _pintarlo de otro color_. Por supuesto, podemos pensar en más datos y acciones. \n",
    "\n",
    "Podemos pensar en distintos autos, que se diferenciarán porque tendran diferentes valores asociados a sus datos. Por ejemplo, algún auto podría pertenecer al año 2000, tener marca \"Kia\", y color blanco; otro auto podría pertenecer al año 2016, tener marca \"Suzuki\", color azul, y acumular 10000 kilómetros. Sin embargo, ambos siguen siendo _autos_. Diremos que ambos **objetos** pertenecen a una misma categoría o **clase** que llamaremos `Auto`. Así, podríamos decir que todos los objetos que pertenecen a la clase `Auto`, poseen los siguientes conjuntos de datos y comportamientos.\n",
    "\n",
    "### Ejemplo de clase Auto\n",
    "\n",
    "Datos            | Comportamiento\n",
    "---------------- | ---------------------------\n",
    "Marca            | Calcular próximo mantención\n",
    "Modelo           | Realizar una nueva mantención\n",
    "Año              | Conducir durante _X_ kilómetros\n",
    "Color            | Calcular distancia a alguna dirección\n",
    "Motor            | Pintarlo de otro color\n",
    "Kilometraje      |\n",
    "Mantenciones     |\n",
    "Ubicación actual |\n",
    "\n",
    "\n",
    "## ¿Qué es OOP?\n",
    "\n",
    "La **Programación Orientada a Objetos** ú **OOP** (_Object Oriented Programming_) es un paradigma de programación (una manera de programar) en el cual los programas modelan las funcionalidades\n",
    "a través de la interacción entre **objetos** por\n",
    "medio de sus datos y sus comportamientos. \n",
    "\n",
    "En OOP los objetos son descritos de manera general mediante **clases**. Una clase describe los datos que caracterizan a un objeto; a estos datos los llamamos **atributos**. Una clase también describe los comportamientos de los objetos, y a estos comportamientos los llamamos **métodos**.\n",
    "\n",
    "![](img/OOP_auto.png)\n",
    "\n",
    "### Encapsulamiento\n",
    "\n",
    "Una característica que permite la OOP es el **encapsulamiento**. Existen atributos de los objetos que no\n",
    "necesitan ser observados ni accedidos por otros objetos con que se interactúa.\n",
    "\n",
    "Si pensamos en el ejemplo de nuestra clase `Auto`, atributos del auto como `motor`, y otros que pueden ser `disco_de_embrague`, o `palanca_de_cambios`, son naturalmente parte de `Auto`, pero son internos a la construcción y al funcionamiento de un objeto de clase `Auto`. Otros objetos de clase `Auto`, o de otras clases como `Conductor` no necesitan interactuar con ellos, o al menos no directamente. Por otro lado, atributos como `color` o `modelo` pueden ser interés para objetos de otras clases como `Persona`.\n",
    "\n",
    "El encapsulamiento nos ayudará a alcanzar un mejor nivel de abstracción en el modelamiento de nuestros programas al definir qué atributos de un objeto son de interés para otros objetos y cuáles atributos son de interés únicamente para el comportamiento interno del objeto y, por lo tanto, deberían permacener ocultos o _encapsulados_ dentro del objeto. Veremos que un correcto uso del encapsulamiento de atributos lleva a un código más limpio.\n",
    "\n",
    "\n",
    "### Interfaz\n",
    "\n",
    "En programación, una interfaz es una _fachada_ para proteger la implementación de una clase e interactuar con otros objetos. La interfaz define el conjunto de atributos y métodos de un objeto que son _expuestos_ u ofrecidos por la clase para poder interactuar con otros objetos.\n",
    "\n",
    "En nuestro ejemplo de la clase `Auto`, una interfaz que puede ser ofrecida a un objeto de clase `Conductor` puede incluir atributos como `kilometraje` y `velocidad`, y métodos como _conducir X kilómetros_, _acelerar_, ó _encender el motor_. Por otro lado si consideramos la interacción con un objeto de clase `Mecánico`, podríamos pensar en una interfaz con atributos como `nivel_de_aceite`, y métodos como _abrir capot_, _cambiar neumático_ ó _reemplazar discos_. \n",
    "\n",
    "El nivel de detalle de la interfaz se denomina abstracción. En nuestro ejemplo, todos los atributos `kilometraje`, `velocidad`, `nivel_de_aceite` y los métodos _acelerar_, _encender el motor_, _abrir capot_ siguen siendo parte de la clase `Auto`. Sin embargo, hemos definido una interfaz con cierto nivel de abstracción para interactuar con la clase `Conductor`, ocultando o abstrayendo al Conductor de detalles internos del Auto. Por otro lado, para interactuar con la clase `Mecánico` ofrecemos, además de lo que es accesible al `Conductor`, una interfaz más concreta que expone un mayor conjunto de atributos y métodos de la clase `Auto`."
   ]
  },
  {
   "cell_type": "markdown",
   "metadata": {},
   "source": [
    "## OOP en Python\n",
    "\n",
    "Python es un lenguaje _multiparadigma_ lo que significa que permite programar mediantes distintos paradigmas de programación. Entre ellos se encuentra la programación imperativa, la programación funcional, y también OOP. A continuación revisaremos ejemplos que ilustran cómo Python permite programar utilizando OOP.\n",
    "\n",
    "### Forma básica para crear una clase\n",
    "\n",
    "En este ejemplo, definimos una clase de nombre `Departamento`, la cual representa un departamento en venta con atributos como superficie (en m2), valor (en UF), cantidad de dormitorios, cantidad de baños, y un valor _boolean_ que nos indicar si ha sido vendido o no. También definiremos un método _vender_ que podría ser de interés para un vendedor."
   ]
  },
  {
   "cell_type": "code",
   "execution_count": 1,
   "metadata": {},
   "outputs": [],
   "source": [
    "class Departamento:  # CamelCase notation (PEP8)\n",
    "    '''Clase que representa un departamento en venta\n",
    "       valor esta en UF.\n",
    "    '''\n",
    "    def __init__(self, _id, mts2, valor, num_dorms, num_banos):\n",
    "        self._id = _id\n",
    "        self.mts2 = mts2\n",
    "        self.valor = valor\n",
    "        self.num_dorms = num_dorms\n",
    "        self.num_banos = num_banos\n",
    "        self.vendido = False\n",
    "\n",
    "    def vender(self):\n",
    "        if not self.vendido:\n",
    "            self.vendido = True\n",
    "        else:\n",
    "            print(\"Departamento {} ya se vendió\".format(self._id))"
   ]
  },
  {
   "cell_type": "markdown",
   "metadata": {},
   "source": [
    "El siguiente código utiliza la clase que acabamos de definir. Primero creamos un nuevo objeto `depto` de la clase `Departamento` y asignamos valores a algunos de sus atributos, de acuerdo al inicializador (`__init__`) de la clase. Sobre este objeto, accedemos a su atributo `vendido`, y utilizamos su método `vender`."
   ]
  },
  {
   "cell_type": "code",
   "execution_count": 3,
   "metadata": {},
   "outputs": [
    {
     "name": "stdout",
     "output_type": "stream",
     "text": [
      "El departamento está vendido? False\n",
      "El departamento está vendido? True\n",
      "Departamento 1 ya se vendió\n"
     ]
    }
   ],
   "source": [
    "depto = Departamento(_id=1, mts2=100, valor=5000, num_dorms=3, num_banos=2)\n",
    "print(\"El departamento está vendido? {}\".format(depto.vendido))\n",
    "depto.vender()\n",
    "print(\"El departamento está vendido? {}\".format(depto.vendido))\n",
    "depto.vender()"
   ]
  },
  {
   "cell_type": "markdown",
   "metadata": {},
   "source": [
    "### Ver una descripción de la clase"
   ]
  },
  {
   "cell_type": "code",
   "execution_count": 7,
   "metadata": {
    "scrolled": false
   },
   "outputs": [
    {
     "name": "stdout",
     "output_type": "stream",
     "text": [
      "Help on class Departamento in module __main__:\n",
      "\n",
      "class Departamento(builtins.object)\n",
      " |  Clase que representa un departamento en venta\n",
      " |  valor esta en UF.\n",
      " |  \n",
      " |  Methods defined here:\n",
      " |  \n",
      " |  __init__(self, _id, mts2, valor, num_dorms, num_banos)\n",
      " |      Initialize self.  See help(type(self)) for accurate signature.\n",
      " |  \n",
      " |  vender(self)\n",
      " |  \n",
      " |  ----------------------------------------------------------------------\n",
      " |  Data descriptors defined here:\n",
      " |  \n",
      " |  __dict__\n",
      " |      dictionary for instance variables (if defined)\n",
      " |  \n",
      " |  __weakref__\n",
      " |      list of weak references to the object (if defined)\n",
      "\n"
     ]
    }
   ],
   "source": [
    "help(Departamento)"
   ]
  },
  {
   "cell_type": "markdown",
   "metadata": {},
   "source": [
    "### Encapsulamiento en Python\n",
    "\n",
    "A diferencia de lo que ocurre en OOP con otros lenguajes de programación (por ejemplo, en Java), en Python todas las variables y métodos de un objeto pueden ser accedidos desde fuera de él. Es decir, son **públicos**.\n",
    "\n",
    "En ciertos casos, nos gustaría indicar que un método es de uso interno de la clase. Podemos _sugerir_ que un método o variable sea interno si el nombre empieza con _underscore_, como en el siguiente ejemplo:"
   ]
  },
  {
   "cell_type": "code",
   "execution_count": 5,
   "metadata": {},
   "outputs": [],
   "source": [
    "class Televisor:\n",
    "    ''' Clase que modela un televisor.\n",
    "    '''\n",
    "    \n",
    "    def __init__(self, pulgadas, marca):\n",
    "        self.pulgadas = pulgadas\n",
    "        self.marca = marca\n",
    "        self.encendido = False\n",
    "        self.canal_actual = 0\n",
    "        \n",
    "    def encender(self):\n",
    "        self.encendido = True\n",
    "        \n",
    "    def apagar(self):\n",
    "        self.encendido = False\n",
    "        \n",
    "    def cambiar_canal(self, nuevo_canal):\n",
    "        self._codificar_imagen()\n",
    "        self.canal_actual = nuevo_canal\n",
    "        \n",
    "    def _codificar_imagen(self):\n",
    "        print(\"Estoy convirtiendo una señal eléctrica en la imagen que estás viendo.\")\n",
    "        "
   ]
  },
  {
   "cell_type": "markdown",
   "metadata": {},
   "source": [
    "En este ejemplo, podemos notar que la clase `Televisor` tiene los métodos `encender`, `apagar`, `cambiar_canal` y `_codificar_imagen`. Digamos que queremos crear objetos de la classe `Televisor`. "
   ]
  },
  {
   "cell_type": "code",
   "execution_count": 6,
   "metadata": {},
   "outputs": [],
   "source": [
    "televisor1 = Televisor(17, 'zony')\n",
    "televisor2 = Televisor(21, 'zamsung')"
   ]
  },
  {
   "cell_type": "markdown",
   "metadata": {},
   "source": [
    "Estos televisores que hemos creado deberían poder ser encendidos y apagados. También deberíamos poder cambiar el canal.\n",
    "Sin embargo, no necesitamos decirle al televisor que codifique la imagen. Ésta es una operación que se realiza automáticamente, cada vez que se cambia el canal. Como el método `_codificar_imagen` empieza con _underscore_, **por convención** no debe ser llamado fuera de la clase.\n",
    "\n",
    "Sin embargo, si un método empieza con _underscore_ **aún se puede acceder directamente**."
   ]
  },
  {
   "cell_type": "code",
   "execution_count": 6,
   "metadata": {},
   "outputs": [
    {
     "name": "stdout",
     "output_type": "stream",
     "text": [
      "Estoy convirtiendo una señal eléctrica en la imagen que estás viendo.\n"
     ]
    }
   ],
   "source": [
    "televisor1._codificar_imagen()"
   ]
  },
  {
   "cell_type": "markdown",
   "metadata": {},
   "source": [
    "### Named Tuples\n",
    "\n",
    "Las *Named Tuples* permiten definir campos para cada una de las posiciones en que han sido ingresado los datos. Son útiles como una forma de agrupar datos. Generalmente se utilizan como alternativa a las clases cuando éstas no tienen comportamiento asociado. Este tipo de tupla requiere definir un objeto con los nombres de los atributos o elementos que tendrá la tupla. Para poder hacer uso de esta estructura se requiere importar el modulo `namedtuple` dese la librería `collections`. La inicialización básica de una `namedtuple` requiere el nombre para el tipo de tupla y el nombre de los campos que tendrá."
   ]
  },
  {
   "cell_type": "code",
   "execution_count": 7,
   "metadata": {},
   "outputs": [
    {
     "name": "stdout",
     "output_type": "stream",
     "text": [
      "13427974-5\n",
      "23066987-2\n",
      "<class '__main__.Register_type'>\n"
     ]
    }
   ],
   "source": [
    "from collections import namedtuple\n",
    "\n",
    "# Asignamos un nombre a la tupla (Register_type), y los nombres de los atributos que tendrá\n",
    "\n",
    "Register = namedtuple('Register_type', ['RUT', 'name', 'age'])\n",
    "\n",
    "# instanciación e iniciación de la tupla\n",
    "c1 = Register('13427974-5', 'Christian', 20) \n",
    "c2 = Register('23066987-2', 'Dante', 5)\n",
    "\n",
    "print(c1.RUT)\n",
    "print(c2.RUT)\n",
    "print(type(c2))"
   ]
  },
  {
   "cell_type": "markdown",
   "metadata": {},
   "source": [
    "Se puede usar también las *Named Tuples* para entregar la salida de una función"
   ]
  },
  {
   "cell_type": "code",
   "execution_count": 8,
   "metadata": {},
   "outputs": [
    {
     "name": "stdout",
     "output_type": "stream",
     "text": [
      "200.0\n",
      "<class '__main__.Geometrical'>\n"
     ]
    }
   ],
   "source": [
    "def calcular_geometria(a, b):\n",
    "    Features = namedtuple('Geometrical', 'area perimeter mpa mpb')\n",
    "    area = a * b\n",
    "    perimeter = (2 * a) + (2 * b)\n",
    "    mpa = a / 2\n",
    "    mpb = b / 2\n",
    "    return Features(area, perimeter, mpa, mpb)\n",
    "\n",
    "data = calcular_geometria(20.0, 10.0)\n",
    "print(data.area)\n",
    "print(type(data))"
   ]
  },
  {
   "cell_type": "markdown",
   "metadata": {},
   "source": [
    "### El método `__call__`\n",
    "\n",
    "El método `__call__` se usa para crear una función que será ejecutada cada vez que se \"llame\" a una instancia de la clase con paréntesis (`instancia()`). Ejemplo:"
   ]
  },
  {
   "cell_type": "code",
   "execution_count": 9,
   "metadata": {},
   "outputs": [
    {
     "name": "stdout",
     "output_type": "stream",
     "text": [
      "Cucho\n",
      "Animal llamado: Boby\n",
      "['pescado']\n",
      "[]\n"
     ]
    }
   ],
   "source": [
    "class Animal:\n",
    "    def __init__(self, nombre, patas):\n",
    "        self.nombre = nombre\n",
    "        self.patas = patas\n",
    "        self.estomago = []        \n",
    "        \n",
    "    def __call__(self,comida):\n",
    "        self.estomago.append(comida)\n",
    "    \n",
    "    def asimilar(self):\n",
    "        if len(self.estomago) > 0:\n",
    "            return self.estomago.pop(0)\n",
    "        \n",
    "    def __str__(self):        \n",
    "        return ('Animal llamado: {}'.format(self.nombre))\n",
    "        \n",
    "gato = Animal('Cucho', 4)  # Hacemos un gato\n",
    "perro = Animal('Boby', 4)  # Podemos hacer muchos animales\n",
    "print(gato.nombre)\n",
    "print(perro) # aquí funciona el método __str__\n",
    "gato('pescado')  # aquí le damos pescado al gato usando el método __call__\n",
    "print(gato.estomago)\n",
    "gato.asimilar()\n",
    "print(gato.estomago)"
   ]
  },
  {
   "cell_type": "markdown",
   "metadata": {},
   "source": [
    "Fuente: https://www.daniweb.com/programming/software-development/threads/39004/what-does-call-method-do"
   ]
  }
 ],
 "metadata": {
  "kernelspec": {
   "display_name": "Python 3",
   "language": "python",
   "name": "python3"
  },
  "language_info": {
   "codemirror_mode": {
    "name": "ipython",
    "version": 3
   },
   "file_extension": ".py",
   "mimetype": "text/x-python",
   "name": "python",
   "nbconvert_exporter": "python",
   "pygments_lexer": "ipython3",
   "version": "3.6.4"
  }
 },
 "nbformat": 4,
 "nbformat_minor": 1
}
