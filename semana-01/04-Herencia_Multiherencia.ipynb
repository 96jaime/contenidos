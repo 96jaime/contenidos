{
 "cells": [
  {
   "cell_type": "markdown",
   "metadata": {},
   "source": [
    "<p>\n",
    "<font size='5' face='Georgia, Arial'>IIC-2233 Apunte Programación Avanzada</font><br>\n",
    "<font size='1'>Basado en: &copy; 2015 Karim Pichara - Christian Pieringer. Todos los derechos reservados. Modificado el 2018-1.</font>\n",
    "</p>"
   ]
  },
  {
   "cell_type": "markdown",
   "metadata": {},
   "source": [
    "# Tabla de contenidos\n",
    "1. [Herencia](#Herencia)\n",
    "    1. [Método `super`](#Método-super)\n",
    "    2. [Herencia con built-ins](#Herencia-con-built-ins)\n",
    "2. [Multiherencia](#Multiherencia)\n",
    "    1. [Multiherencia y el problema del diamante](#Multiherencia-y-el-problema-del-diamante)\n",
    "        1. [Solución](#Solución)\n",
    "        2. [El método `__mro__`](#El-método-__mro__)\n",
    "    2. [Ejemplo multiherencia](#Ejemplo-multiherencia)\n",
    "        1. [`*args` y `**kwargs`](#Forma-mejorada:-*args-y-**kwargs)"
   ]
  },
  {
   "cell_type": "markdown",
   "metadata": {},
   "source": [
    "## Herencia\n",
    "\n",
    "El concepto de herencia en OOP nos permite aprovechar código de las clases de las cuales se hereda. La herencia nos permite representar la relación del tipo \"el objeto `B` es un objeto `A`, pero con ciertas diferencias\".\n",
    "\n",
    "Imaginemos que tenemos una clase `Auto` con atributos `marca`, `modelo`, `motor` y con métodos `conducir` y `realizar_mantencion`. Si se nos pide modelar un furgón escolar, éste debe tener lo mismo que un auto, junto con una _lista de los niños inscritos_ y una _forma de inscribir niños_. Nos gustaría poder **reutilizar** nuestro código escrito en la clase `Auto`, pues ahí ya tenemos algunos métodos y atributos implementados.\n",
    "\n",
    "Es para esto que utilizamos la herencia. La herencia nos permite \"heredar\" datos y comportamiento de una clase y utilizarlos en otra. En nuestro ejemplo del furgón escolar, nos conviene crear una clase `FurgonEscolar` que herede de `Auto` y definir ahí la lista de los niños y un método de inscripción. \n",
    "\n",
    "Si `FurgonEscolar` **hereda** de `Auto`, también se dice que:\n",
    "- `FurgonEscolar` es una **especialización** de la clase `Auto`\n",
    "- `FurgonEscolar` es **subclase** (o clase hija) de `Auto`.\n",
    "- `FurgónEscolar` **extiende** `Auto`.\n",
    "- `Auto` es **superclase** (o clase madre) de `FurgonEscolar`\n",
    "\n",
    "La herencia también nos permite sobrescribir los métodos que necesitemos modificar. En Python, simplemente definimos nuevamente el método y con eso se entiende que la versión implementada en la subclase es la que cuenta. Esto se llama _**overriding**_.\n",
    "\n",
    "Este ejemplo en código Python:"
   ]
  },
  {
   "cell_type": "code",
   "execution_count": 1,
   "metadata": {},
   "outputs": [],
   "source": [
    "class Auto:\n",
    "    \"\"\"Superclase de FurgonEscolar\"\"\"\n",
    "    \n",
    "    def __init__(self, marca, modelo, motor):\n",
    "        self.marca = marca\n",
    "        self.modelo = modelo\n",
    "        self.motor = motor\n",
    "        \n",
    "    def conducir(self, distancia):\n",
    "        print(\"Conduciendo {} kilómetros\".format(distancia))\n",
    "        \n",
    "    def realizar_mantencion(self):\n",
    "        print(\"Realizando mantención\")\n",
    "\n",
    "        \n",
    "        \n",
    "class FurgonEscolar(Auto):\n",
    "    \"\"\"Subclase de Auto\"\"\"\n",
    "    \n",
    "    # Estamos haciendo overriding del __init__ original\n",
    "    def __init__(self, marca, modelo, motor):\n",
    "        # Aún queremos usar el __init__ original para setear los otros datos. Así es como podemos llamarlo.\n",
    "        Auto.__init__(self, marca, modelo, motor)\n",
    "        self.ninos = []\n",
    "    \n",
    "    # inscribir_nino es un método específico de esta subclase.\n",
    "    def inscribir_nino(self, nino):\n",
    "        self.ninos.append(nino)\n",
    "        \n",
    "    # Estamos haciendo overriding del método conducir original\n",
    "    def conducir(self, distancia):\n",
    "        # Acá no queremos usar la versión original de conducir\n",
    "        print(\"Conduciendo con cuidado {} kilómetros\".format(distancia))"
   ]
  },
  {
   "cell_type": "markdown",
   "metadata": {},
   "source": [
    "Podemos comprobar que un objeto de la clase `FurgonEscolar` tiene todos los datos y métodos que tenía la clase `Auto`, y también tiene lo que definimos específicamente para `FurgonEscolar`:"
   ]
  },
  {
   "cell_type": "code",
   "execution_count": 2,
   "metadata": {},
   "outputs": [
    {
     "name": "stdout",
     "output_type": "stream",
     "text": [
      "Marca: Toyota\n",
      "Modelo: Hiace\n",
      "Motor: Motor de 100 HP\n",
      "Conduciendo con cuidado 5 kilómetros\n",
      "Realizando mantención\n",
      "Niños: ['Joaquín Contador']\n"
     ]
    }
   ],
   "source": [
    "furgon = FurgonEscolar('Toyota', 'Hiace', 'Motor de 100 HP')\n",
    "print(\"Marca: {}\".format(furgon.marca))\n",
    "print(\"Modelo: {}\".format(furgon.modelo))\n",
    "print(\"Motor: {}\".format(furgon.motor))\n",
    "furgon.conducir(5)\n",
    "furgon.realizar_mantencion()\n",
    "furgon.inscribir_nino('Joaquín Contador')\n",
    "print(\"Niños: {}\".format(furgon.ninos))"
   ]
  },
  {
   "cell_type": "markdown",
   "metadata": {},
   "source": [
    "### Método `super`\n",
    "\n",
    "En el ejemplo del furgón escolar, reutilizamos el `__init__` de la clase `Auto`, y para eso tuvimos que escribir una línea de la forma `ClaseMadre.metodo(self, argumentos)`. En nuestro caso era `Auto.__init__(self, marca, modelo, motor)`. \n",
    "\n",
    "Usando el método `super()` podemos utilizar la implementación de un método de la superclase sin nombrar explícitamente a la clase madre, de la forma `super().metodo(argumentos)`. Esto nos ayuda a escribir un código más mantenible."
   ]
  },
  {
   "cell_type": "code",
   "execution_count": 3,
   "metadata": {},
   "outputs": [
    {
     "name": "stdout",
     "output_type": "stream",
     "text": [
      "Marca: Toyota\n",
      "Modelo: Hiace\n",
      "Motor: Motor de 100 HP\n",
      "Conduciendo con cuidado 5 kilómetros\n",
      "Realizando mantención\n",
      "Niños: ['Joaquín Contador']\n"
     ]
    }
   ],
   "source": [
    "class FurgonEscolar(Auto):\n",
    "    \"\"\"Subclase de Auto\"\"\"\n",
    "    \n",
    "    # Estamos haciendo overriding del __init__ original\n",
    "    def __init__(self, marca, modelo, motor):\n",
    "        # Usamos el __init__ original para setear los otros datos. Así es como podemos llamarlo con super().\n",
    "        super().__init__(marca, modelo, motor)\n",
    "        self.ninos = []\n",
    "    \n",
    "    # inscribir_nino es un método específico de esta subclase.\n",
    "    def inscribir_nino(self, nino):\n",
    "        self.ninos.append(nino)\n",
    "        \n",
    "    # Estamos haciendo overriding del método conducir original\n",
    "    def conducir(self, distancia):\n",
    "        # Acá no queremos usar la versión original de conducir\n",
    "        print(\"Conduciendo con cuidado {} kilómetros\".format(distancia))\n",
    "\n",
    "        \n",
    "furgon = FurgonEscolar('Toyota', 'Hiace', 'Motor de 100 HP')\n",
    "print(\"Marca: {}\".format(furgon.marca))\n",
    "print(\"Modelo: {}\".format(furgon.modelo))\n",
    "print(\"Motor: {}\".format(furgon.motor))\n",
    "furgon.conducir(5)\n",
    "furgon.realizar_mantencion()\n",
    "furgon.inscribir_nino('Joaquín Contador')\n",
    "print(\"Niños: {}\".format(furgon.ninos))"
   ]
  },
  {
   "cell_type": "markdown",
   "metadata": {},
   "source": [
    "### Herencia con _built-ins_\n",
    "\n",
    "Una de las cosas que podemos hacer con herencia es extender los _built-ins_. Por ejemplo, si queremos extender la clase `list`, podemos definir una subclase que heredará los métodos de la clase `list` y a su vez tendrá datos y métodos propios:"
   ]
  },
  {
   "cell_type": "code",
   "execution_count": 4,
   "metadata": {},
   "outputs": [],
   "source": [
    "class ContactList(list):\n",
    "    \"\"\"\n",
    "    Estamos extendiendo y especializando la clase lista estándar. \n",
    "    Tiene todos los métodos de la lista más los definidos por nosotros.\n",
    "    \"\"\"\n",
    "    \n",
    "    # Buscar es un método específico de esta sub-clase\n",
    "    def buscar(self, nombre):\n",
    "        matches = []\n",
    "        \n",
    "        for contacto in self:\n",
    "            if nombre in contacto.nombre:\n",
    "                matches.append(contacto)\n",
    "                \n",
    "        return matches\n",
    "\n",
    "    \n",
    "class Contacto:\n",
    "    \"\"\"La clase Contacto tiene una lista de contactos del tipo ContactList.\"\"\"\n",
    "    \n",
    "    contactos_list = ContactList() # Variable de la clase (o static)\n",
    "\n",
    "    def __init__(self, nombre, email):\n",
    "        self.nombre = nombre\n",
    "        self.email = email\n",
    "        Contacto.contactos_list.append(self) # El método append() es heredado de la clase list\n",
    "\n",
    "\n",
    "class Familiar(Contacto):\n",
    "    \"\"\"Familiar es una clase especializada de contacto que permite incluir el tipo de relación\"\"\"\n",
    "\n",
    "    # Overriding sobre el método __init__()\n",
    "    def __init__(self, nombre, email, relacion):\n",
    "        super().__init__(nombre, email)\n",
    "        self.relacion = relacion"
   ]
  },
  {
   "cell_type": "code",
   "execution_count": 5,
   "metadata": {},
   "outputs": [
    {
     "name": "stdout",
     "output_type": "stream",
     "text": [
      "['Daniela Gómez', 'Daniela Vega']\n"
     ]
    }
   ],
   "source": [
    "p1 = Familiar(nombre=\"Daniela Gómez\", email=\"daniela@gomez.cl\", relacion=\"madre\")\n",
    "p2 = Contacto(nombre=\"Daniela Vega\", email=\"daniela@oscars.com\")\n",
    "p3 = Familiar(nombre = \"Juan Gómez\", email=\"juan@gomez.cl\", relacion=\"primo\")\n",
    "p4 = Contacto(nombre = \"Natalia Lafourcade\", email=\"natalia@lafourcade.com\")\n",
    "\n",
    "# Las 3 siguientes líneas pueden ser escritas de forma elegante con list comprehension \n",
    "# que se verá en la clase de programación funcional\n",
    "personas_llamadas_daniela = []\n",
    "for contacto in Contacto.contactos_list.buscar(\"Daniela\"):\n",
    "    personas_llamadas_daniela.append(contacto.nombre)\n",
    "\n",
    "print(personas_llamadas_daniela)"
   ]
  },
  {
   "cell_type": "markdown",
   "metadata": {},
   "source": [
    "## Multiherencia\n",
    "\n",
    "Tal como es posible que una subclase herede datos y comportamiento de una superclase, también es posible heredar\n",
    "de más de una clase a la vez:\n"
   ]
  },
  {
   "cell_type": "code",
   "execution_count": 6,
   "metadata": {},
   "outputs": [
    {
     "name": "stdout",
     "output_type": "stream",
     "text": [
      "Emilia Donoso\n",
      "Inteligencia de Máquina\n",
      "Ciencia De La Computación\n"
     ]
    }
   ],
   "source": [
    "class Investigador:\n",
    "    def __init__(self, area):\n",
    "        self.area = area\n",
    "        \n",
    "class Docente:\n",
    "    def __init__(self, departamento):\n",
    "        self.departamento = departamento\n",
    "        \n",
    "class Academico(Docente, Investigador):\n",
    "    def __init__(self, nombre, area_investigacion, departamento):\n",
    "        # Esto no es del todo correcto, lo explicamos más abajo.\n",
    "        Investigador.__init__(self, area_investigacion)\n",
    "        Docente.__init__(self, departamento)\n",
    "        self.nombre = nombre\n",
    "\n",
    "p1 = Academico(\"Emilia Donoso\", \"Inteligencia de Máquina\", \"Ciencia De La Computación\")\n",
    "print(p1.nombre)\n",
    "print(p1.area)\n",
    "print(p1.departamento)"
   ]
  },
  {
   "cell_type": "markdown",
   "metadata": {},
   "source": [
    "### Multiherencia y el problema del diamante\n",
    "\n",
    "El siguiente ejemplo muestra lo que ocurre en un contexto de multiherencia si es que cada sub-clase llama directamente a inicializar a todas sus superclases. La figura siguiente muestra la jerarquía de las clases en cuestión\n",
    "\n",
    "![Diamante](img/diamante.png)"
   ]
  },
  {
   "cell_type": "markdown",
   "metadata": {},
   "source": [
    "El siguiente código muestra qué ocurre cuando llamamos al método `llamar()` en ambas superclases desde la clase `SubClaseA`."
   ]
  },
  {
   "cell_type": "code",
   "execution_count": 7,
   "metadata": {},
   "outputs": [
    {
     "name": "stdout",
     "output_type": "stream",
     "text": [
      "Llamando método en Clase B\n",
      "Llamando método en Subclase izquierda\n",
      "Llamando método en Clase B\n",
      "Llamando método en Subclase derecha\n",
      "Llamando método en SubclaseA\n",
      "1 1 1 2\n"
     ]
    }
   ],
   "source": [
    "class ClaseB:\n",
    "    \n",
    "    num_llamadas_B = 0\n",
    "    \n",
    "    def llamar(self):\n",
    "        print(\"Llamando método en Clase B\")\n",
    "        self.num_llamadas_B += 1\n",
    "\n",
    "\n",
    "class SubClaseIzquierda(ClaseB):\n",
    "    \n",
    "    num_llamadas_izq = 0\n",
    "    \n",
    "    def llamar(self):\n",
    "        ClaseB.llamar(self)\n",
    "        print(\"Llamando método en Subclase izquierda\")\n",
    "        self.num_llamadas_izq += 1\n",
    "\n",
    "        \n",
    "class SubClaseDerecha(ClaseB):\n",
    "    \n",
    "    num_llamadas_der = 0\n",
    "    \n",
    "    def llamar(self):\n",
    "        ClaseB.llamar(self)\n",
    "        print(\"Llamando método en Subclase derecha\")\n",
    "        self.num_llamadas_der += 1\n",
    "\n",
    "        \n",
    "class SubClaseA(SubClaseIzquierda, SubClaseDerecha):\n",
    "    \n",
    "    num_llamadas_subA = 0\n",
    "    \n",
    "    def llamar(self):\n",
    "        SubClaseIzquierda.llamar(self)\n",
    "        SubClaseDerecha.llamar(self)\n",
    "        print(\"Llamando método en SubclaseA\")\n",
    "        self.num_llamadas_subA += 1\n",
    "\n",
    "\n",
    "\n",
    "s = SubClaseA()\n",
    "s.llamar()\n",
    "print(s.num_llamadas_subA, s.num_llamadas_izq, s.num_llamadas_der, s.num_llamadas_B)"
   ]
  },
  {
   "cell_type": "markdown",
   "metadata": {},
   "source": [
    "Del output se puede apreciar que la clase de más arriba en la jerarquía (`Clase B`), fue llamada dos veces, a pesar de que\n",
    "nuestra intención era llamarla sólo una vez. La estructura de jerarquía en forma de diamante ocurre siempre que tengamos una clase que hereda de dos clases, ya que como en Python todo es un objeto, todo hereda de la clase \"object\", por lo tanto en general el esquema de multiherencia se ve de la siguiente forma:\n",
    "\n",
    "![Diamante2](img/diamante_2.png)\n",
    "Siguiendo el mismo ejemplo anterior, en vez de llamar al método `llamar()`, llamamos al método `__init__`, estaríamos inicializando dos veces en la clase `object`!. \n"
   ]
  },
  {
   "cell_type": "markdown",
   "metadata": {},
   "source": [
    "#### Solución\n",
    "\n",
    "La solución es que cada clase debe preocuparse de llamar a inicializar a la clase que la \"precede\" en el orden del esquema de la multiherencia. En Python el orden de las clases va de izquierda a derecha dentro de la lista de super-clases desde donde hereda la sub-clase. En este caso, simplemente debemos preocuparnos de hacer una llamada a `super()`. Python se encargará de que la llamada corresponda a la clase que respeta el orden en la multiherencia, en este caso, después de la subclase viene la clase `SubclaseIzquierda`, después `SubClaseDerecha` y finalmente `ClaseB`"
   ]
  },
  {
   "cell_type": "code",
   "execution_count": 8,
   "metadata": {},
   "outputs": [
    {
     "name": "stdout",
     "output_type": "stream",
     "text": [
      "Llamando método en Clase B\n",
      "Llamando método en Subclase Derecha\n",
      "Llamando método en Subclase Izquierda\n",
      "Llamando método en SubclaseA\n",
      "1 1 1 1\n"
     ]
    }
   ],
   "source": [
    "class ClaseB:\n",
    "    \n",
    "    num_llamadas_B = 0\n",
    "    \n",
    "    def llamar(self):\n",
    "        print(\"Llamando método en Clase B\")\n",
    "        self.num_llamadas_B += 1\n",
    "\n",
    "\n",
    "class SubClaseIzquierda(ClaseB):\n",
    "    \n",
    "    num_llamadas_izq = 0\n",
    "    \n",
    "    def llamar(self):\n",
    "        super().llamar()\n",
    "        print(\"Llamando método en Subclase Izquierda\")\n",
    "        self.num_llamadas_izq += 1\n",
    "\n",
    "        \n",
    "class SubClaseDerecha(ClaseB):\n",
    "    \n",
    "    num_llamadas_der = 0\n",
    "    \n",
    "    def llamar(self):\n",
    "        super().llamar()\n",
    "        print(\"Llamando método en Subclase Derecha\")\n",
    "        self.num_llamadas_der += 1\n",
    "\n",
    "        \n",
    "class SubClaseA(SubClaseIzquierda, SubClaseDerecha):\n",
    "    \n",
    "    num_llamadas_subA = 0\n",
    "    \n",
    "    def llamar(self):\n",
    "        super().llamar()\n",
    "        print(\"Llamando método en SubclaseA\")\n",
    "        self.num_llamadas_subA += 1\n",
    "\n",
    "\n",
    "s = SubClaseA()\n",
    "s.llamar()\n",
    "print(s.num_llamadas_subA, s.num_llamadas_izq, s.num_llamadas_der, s.num_llamadas_B)"
   ]
  },
  {
   "cell_type": "markdown",
   "metadata": {},
   "source": [
    "#### El método `__mro__` \n",
    "\n",
    "El método `__mro__` (del inglés, _method resolution order_) nos muestra el orden de la jerarquía de clases. Es útil para casos de multiherencia más complejos. Python utiliza el algoritmo C3 para calcular un orden lineal entre las clases que participan en el esquema de multiherencia:"
   ]
  },
  {
   "cell_type": "code",
   "execution_count": 9,
   "metadata": {},
   "outputs": [
    {
     "data": {
      "text/plain": [
       "(__main__.SubClaseA,\n",
       " __main__.SubClaseIzquierda,\n",
       " __main__.SubClaseDerecha,\n",
       " __main__.ClaseB,\n",
       " object)"
      ]
     },
     "execution_count": 9,
     "metadata": {},
     "output_type": "execute_result"
    }
   ],
   "source": [
    "SubClaseA.__mro__"
   ]
  },
  {
   "cell_type": "markdown",
   "metadata": {},
   "source": [
    "Sin embargo, no toda estructura de multiherencia está permitida, pues no siempre es posible armar un _method resolution order_ consistente para todas las clases. Un ejemplo:"
   ]
  },
  {
   "cell_type": "code",
   "execution_count": 10,
   "metadata": {},
   "outputs": [
    {
     "ename": "TypeError",
     "evalue": "Cannot create a consistent method resolution\norder (MRO) for bases X, Y",
     "output_type": "error",
     "traceback": [
      "\u001b[0;31m---------------------------------------------------------------------------\u001b[0m",
      "\u001b[0;31mTypeError\u001b[0m                                 Traceback (most recent call last)",
      "\u001b[0;32m<ipython-input-10-dea1db516312>\u001b[0m in \u001b[0;36m<module>\u001b[0;34m()\u001b[0m\n\u001b[1;32m     15\u001b[0m         \u001b[0mprint\u001b[0m\u001b[0;34m(\u001b[0m\u001b[0;34m\"soy B\"\u001b[0m\u001b[0;34m)\u001b[0m\u001b[0;34m\u001b[0m\u001b[0m\n\u001b[1;32m     16\u001b[0m \u001b[0;34m\u001b[0m\u001b[0m\n\u001b[0;32m---> 17\u001b[0;31m \u001b[0;32mclass\u001b[0m \u001b[0mF\u001b[0m\u001b[0;34m(\u001b[0m\u001b[0mA\u001b[0m\u001b[0;34m,\u001b[0m \u001b[0mB\u001b[0m\u001b[0;34m)\u001b[0m\u001b[0;34m:\u001b[0m\u001b[0;34m\u001b[0m\u001b[0m\n\u001b[0m\u001b[1;32m     18\u001b[0m     \u001b[0;32mdef\u001b[0m \u001b[0mcall_me\u001b[0m\u001b[0;34m(\u001b[0m\u001b[0mself\u001b[0m\u001b[0;34m)\u001b[0m\u001b[0;34m:\u001b[0m\u001b[0;34m\u001b[0m\u001b[0m\n\u001b[1;32m     19\u001b[0m         \u001b[0mprint\u001b[0m\u001b[0;34m(\u001b[0m\u001b[0;34m\"soy F\"\u001b[0m\u001b[0;34m)\u001b[0m\u001b[0;34m\u001b[0m\u001b[0m\n",
      "\u001b[0;31mTypeError\u001b[0m: Cannot create a consistent method resolution\norder (MRO) for bases X, Y"
     ]
    }
   ],
   "source": [
    "class X():\n",
    "    def call_me(self):\n",
    "        print(\"soy X\")\n",
    "    \n",
    "class Y():\n",
    "    def call_me(self):\n",
    "        print(\"soy Y\")\n",
    "    \n",
    "class A(X, Y):\n",
    "    def call_me(self):\n",
    "        print(\"soy A\")\n",
    "    \n",
    "class B(Y, X):\n",
    "     def call_me(self):\n",
    "        print(\"soy B\")\n",
    "\n",
    "class F(A, B):\n",
    "    def call_me(self):\n",
    "        print(\"soy F\")"
   ]
  },
  {
   "cell_type": "markdown",
   "metadata": {},
   "source": [
    "### Ejemplo multiherencia\n",
    "\n",
    "#### Mala práctica\n",
    "\n",
    "El siguiente ejemplo parece funcionar correctamente. Si miramos, la clase `Cliente` usa explícitamente los `__init__` de ambas clases madre con el fin de setear los datos de la clase `AddressHolder` y de `Contacto`. No obstante, estamos cometiendo el error mencionado en la sección del problema del diamante (se está llamando al inicializador de `object` más de una vez).\n",
    "\n",
    "El problema de utilizar `super().__init__` en este caso es que podremos colocar sólo los parámetros correspondientes a la superclase de la izquierda (`Contacto`), sin entregar todos los que necesita `AddressHolder`. En lo que sigue de este documento veremos una forma de solucionar este problema."
   ]
  },
  {
   "cell_type": "code",
   "execution_count": 11,
   "metadata": {
    "scrolled": true
   },
   "outputs": [
    {
     "name": "stdout",
     "output_type": "stream",
     "text": [
      "Juan Perez, jp@gmail.com, Pedro de Valdivia, Providencia\n"
     ]
    }
   ],
   "source": [
    "class AddressHolder:\n",
    "    \n",
    "    def __init__(self, calle, numero, comuna, ciudad):\n",
    "        self.calle = calle\n",
    "        self.ciudad = ciudad\n",
    "        self.comuna = comuna\n",
    "        self.numero = numero\n",
    "\n",
    "        \n",
    "class Contacto:\n",
    "\n",
    "    contactos_list = []\n",
    "\n",
    "    def __init__(self, nombre, email):\n",
    "        self.nombre = nombre\n",
    "        self.email = email\n",
    "        Contacto.contactos_list.append(self)\n",
    "\n",
    "\n",
    "class Cliente(Contacto, AddressHolder):\n",
    "    \n",
    "    def __init__(self, nombre, email, telefono, calle, numero, comuna, ciudad):\n",
    "        Contacto.__init__(self, nombre, email)\n",
    "        AddressHolder.__init__(self, calle, numero, comuna, ciudad)\n",
    "        self.telefono = telefono\n",
    "\n",
    "c = Cliente('Juan Perez', 'jp@gmail.com', '23542331', 'Pedro de Valdivia', '231', 'Providencia', 'Santiago')\n",
    "print(\"{}, {}, {}, {}\".format(c.nombre, c.email, c.calle, c.comuna))"
   ]
  },
  {
   "cell_type": "markdown",
   "metadata": {},
   "source": [
    "####  `*args` y `**kwargs`\n",
    "\n",
    "Antes de ver una forma más adecuada para la versión del código anterior, mostraremos cómo usar `**kwargs`. En este caso `**kwargs` se refiere a una lista de argumentos de largo variable, donde cada variable tiene asociado un _keyword_. El `**` mapea los elementos contenidos en el diccionario `kwargs` y los pasa a la función como argumentos no posicionales. Este método puede ser usado para enviar una cantidad variable de argumentos a una función:"
   ]
  },
  {
   "cell_type": "code",
   "execution_count": 12,
   "metadata": {},
   "outputs": [
    {
     "name": "stdout",
     "output_type": "stream",
     "text": [
      "arg1: 1\n",
      "arg2: two\n",
      "arg3: 3\n"
     ]
    }
   ],
   "source": [
    "def metodo(arg1, arg2, arg3):\n",
    "    print(\"arg1: {}\".format(arg1))\n",
    "    print(\"arg2: {}\".format(arg2))\n",
    "    print(\"arg3: {}\".format(arg3))\n",
    "\n",
    "kwargs = {\"arg3\": 3, \"arg2\": \"two\"}\n",
    "metodo(1, **kwargs)"
   ]
  },
  {
   "cell_type": "markdown",
   "metadata": {},
   "source": [
    "De forma casi análoga, `*args` se refiere a una lista de argumetos de largo variable, donde cada variable no tiene asociado un _keyword_. El operador `*` desempaqueta el contenido del iterable `args` y los pasa a la función como argumentos posicionales. La principal diferencia es que la lista de argumentos contiene simplemente los valores, sin los keywords (guardada en una lista):"
   ]
  },
  {
   "cell_type": "code",
   "execution_count": 13,
   "metadata": {},
   "outputs": [
    {
     "name": "stdout",
     "output_type": "stream",
     "text": [
      "primer arg normal: hola\n",
      "siguiente argumento de *argv : como\n",
      "siguiente argumento de *argv : va\n",
      "siguiente argumento de *argv : todo\n"
     ]
    }
   ],
   "source": [
    "def metodo2(f_arg, *argv):\n",
    "    print(\"primer arg normal: {}\".format(f_arg))\n",
    "    for arg in argv:\n",
    "        print(\"siguiente argumento de *argv : {}\".format(arg))\n",
    "\n",
    "metodo2('hola','como','va','todo')"
   ]
  },
  {
   "cell_type": "markdown",
   "metadata": {},
   "source": [
    "Otro ejemplo:"
   ]
  },
  {
   "cell_type": "code",
   "execution_count": 14,
   "metadata": {},
   "outputs": [
    {
     "name": "stdout",
     "output_type": "stream",
     "text": [
      "1\n",
      "3\n"
     ]
    },
    {
     "ename": "TypeError",
     "evalue": "funcion() takes from 0 to 2 positional arguments but 3 were given",
     "output_type": "error",
     "traceback": [
      "\u001b[0;31m---------------------------------------------------------------------------\u001b[0m",
      "\u001b[0;31mTypeError\u001b[0m                                 Traceback (most recent call last)",
      "\u001b[0;32m<ipython-input-14-f39834f56686>\u001b[0m in \u001b[0;36m<module>\u001b[0;34m()\u001b[0m\n\u001b[1;32m     12\u001b[0m \u001b[0;31m# La función necesita dos argumentos, por lo tanto el exceso de argumentos posicionales genera un error.\u001b[0m\u001b[0;34m\u001b[0m\u001b[0;34m\u001b[0m\u001b[0m\n\u001b[1;32m     13\u001b[0m \u001b[0mvalores\u001b[0m \u001b[0;34m=\u001b[0m \u001b[0;34m(\u001b[0m\u001b[0;36m1\u001b[0m\u001b[0;34m,\u001b[0m \u001b[0;36m2\u001b[0m\u001b[0;34m,\u001b[0m \u001b[0;36m3\u001b[0m\u001b[0;34m)\u001b[0m\u001b[0;34m\u001b[0m\u001b[0m\n\u001b[0;32m---> 14\u001b[0;31m \u001b[0mprint\u001b[0m\u001b[0;34m(\u001b[0m\u001b[0mfuncion\u001b[0m\u001b[0;34m(\u001b[0m\u001b[0;34m*\u001b[0m\u001b[0mvalores\u001b[0m\u001b[0;34m)\u001b[0m\u001b[0;34m)\u001b[0m\u001b[0;34m\u001b[0m\u001b[0m\n\u001b[0m",
      "\u001b[0;31mTypeError\u001b[0m: funcion() takes from 0 to 2 positional arguments but 3 were given"
     ]
    }
   ],
   "source": [
    "def funcion(a=0, b=0):\n",
    "    return a + b\n",
    "\n",
    "# Usando solo un valor posicional y el resto usa los argumentos por defecto\n",
    "valores = (1, )\n",
    "print(funcion(*valores))\n",
    "\n",
    "# Usando todos los argumentos posicionales definidos en la lista\n",
    "valores = (1, 2)\n",
    "print(funcion(*valores))\n",
    "\n",
    "# La función necesita dos argumentos, por lo tanto el exceso de argumentos posicionales genera un error.\n",
    "valores = (1, 2, 3)\n",
    "print(funcion(*valores))"
   ]
  },
  {
   "cell_type": "markdown",
   "metadata": {},
   "source": [
    "Cuando usamos en una llamada `*args` y `**kwargs` juntos, se debe usar el siguiente orden: `alguna_funcion(f_args, *args, **kwargs)`\n",
    "\n",
    "#### Ejemplo arreglado"
   ]
  },
  {
   "cell_type": "code",
   "execution_count": 15,
   "metadata": {},
   "outputs": [
    {
     "name": "stdout",
     "output_type": "stream",
     "text": [
      "(<class '__main__.Cliente'>, <class '__main__.Contacto'>, <class '__main__.AddressHolder'>, <class 'object'>)\n"
     ]
    }
   ],
   "source": [
    "class AddressHolder:\n",
    "    \n",
    "    def __init__(self, calle='', ciudad='', numero='', comuna='', **kwargs):\n",
    "        super().__init__(**kwargs)\n",
    "        self.calle = calle\n",
    "        self.ciudad = ciudad\n",
    "        self.comuna = comuna\n",
    "        self.numero = numero\n",
    "\n",
    "\n",
    "class Contacto:\n",
    "\n",
    "    contactos_list = []\n",
    "\n",
    "    def __init__(self, nombre = '', email = '', **kwargs):\n",
    "        super().__init__(**kwargs)\n",
    "        self.nombre = nombre\n",
    "        self.email = email\n",
    "        Contacto.contactos_list.append(self)\n",
    "\n",
    "\n",
    "class Cliente(Contacto, AddressHolder):\n",
    "    \n",
    "    def __init__(self, telefono='', **kwargs):\n",
    "        super().__init__(**kwargs)\n",
    "        self.telefono = telefono\n",
    "\n",
    "print(Cliente.__mro__)"
   ]
  },
  {
   "cell_type": "code",
   "execution_count": 16,
   "metadata": {},
   "outputs": [
    {
     "name": "stdout",
     "output_type": "stream",
     "text": [
      "Juan Perez, jp@gmail.com, Pedro de Valdivia, Providencia\n"
     ]
    }
   ],
   "source": [
    "c = Cliente(nombre='Juan Perez', email='jp@gmail.com', telefono='23542331',\n",
    "            calle='Pedro de Valdivia', numero='231', comuna='Providencia', ciudad='Santiago')\n",
    "\n",
    "print(\"{}, {}, {}, {}\".format(c.nombre, c.email, c.calle, c.comuna))"
   ]
  }
 ],
 "metadata": {
  "kernelspec": {
   "display_name": "Python 3",
   "language": "python",
   "name": "python3"
  },
  "language_info": {
   "codemirror_mode": {
    "name": "ipython",
    "version": 3
   },
   "file_extension": ".py",
   "mimetype": "text/x-python",
   "name": "python",
   "nbconvert_exporter": "python",
   "pygments_lexer": "ipython3",
   "version": "3.6.4"
  }
 },
 "nbformat": 4,
 "nbformat_minor": 1
}
