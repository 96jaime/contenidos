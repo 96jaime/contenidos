{
 "cells": [
  {
   "cell_type": "markdown",
   "metadata": {},
   "source": [
    "<p>\n",
    "<font size='5' face='Georgia, Arial'>IIC-2233 Apunte Programación Avanzada</font><br>\n",
    "<font size='1'>&copy; 2015 Karim Pichara - Christian Pieringer. Todos los derechos reservados.</font>\n",
    "</p>"
   ]
  },
  {
   "cell_type": "markdown",
   "metadata": {},
   "source": [
    "## Diccionarios\n",
    "\n",
    "Supongamos que, dado un país, queremos saber cuál es su moneda. Una posible solución es escribir una función que reciba el nombre del país y que en una trama de `if - elif - else` retorne la moneda correspondiente:"
   ]
  },
  {
   "cell_type": "code",
   "execution_count": 2,
   "metadata": {},
   "outputs": [],
   "source": [
    "def get_moneda(pais):\n",
    "    if pais == \"Chile\":\n",
    "        return \"Peso\"\n",
    "    elif pais == \"Perú\":\n",
    "        return \"Soles\"\n",
    "    elif pais == \"España\" or pais == \"Holanda\":\n",
    "        return \"Euro\"\n",
    "    elif pais == \"Brasil\":\n",
    "        return \"Real\""
   ]
  },
  {
   "cell_type": "markdown",
   "metadata": {},
   "source": [
    "No obstante, esta solución es larga, tediosa de escribir, y muy difícil de mantener. Tampoco nos permite extender o actualizar la información en tiempo de ejecución, con datos que podemos leer desde un archivo o desde un servicio web. Si nos fijamos, lo único que estamos haciendo es asociar un valor que conocemos de antemano con otro valor. Es esto lo que hacen precisamente los **diccionarios**.\n",
    "\n",
    "Un **diccionario** es una estructura de datos **no ordenada** que permite asociar pares de elementos mediante la relación **llave-valor**. Al diccionario se le consulta por una **llave** y retorna su **valor** asociado. En el ejemplo de las monedas los países serían las llaves por las que consultamos, y los valores serían las distintas monedas.\n",
    "\n",
    "![](img/hash-table.png)\n",
    "\n",
    "Dado una llave, buscar su valor en un diccionario es una operación **muy eficiente** que toma tiempo constante, es decir, no depende de la cantidad de elementos que tenga la estructura. No obstante, esta estructura no está diseñada para buscar (en forma eficiente) una llave teniendo el valor.\n",
    "\n",
    "Los diccionarios están implementados con una estructura llamada _tabla de hash_. En esta estructura, existe una función matemática que se le aplica a la llave para saber en qué lugar guardar un determinado valor. Esa función se llama _función de hash_.\n",
    "\n",
    "### Llaves permitidas\n",
    "\n",
    "No todas las llaves están permitidas en un diccionario. El primer requisito es que las llaves deben ser únicas, por lo que no pueden repetirse. El segundo requisito es que la llave debe ser [_hasheable_](https://docs.python.org/3/glossary.html#term-hashable).\n",
    "\n",
    "Un objeto es [_hasheable_](https://docs.python.org/3/glossary.html#term-hashable) si:\n",
    "1. Implementa la función `__hash__` y `__eq__`.\n",
    "2. El valor que retorna `__hash__` **no cambia** en el ciclo de vida del objeto.\n",
    "3. Si dos objetos son iguales según la función `__eq__`, entonces el valor que retorna `__hash__` debe ser el mismo. No es necesario que esto se cumpla al revés. \n",
    "\n",
    "En Python en particular, todos los _built-ins_ que son **inmutables** son _hasheables_. Esto significa que tipos como `int`, `str` o `tuple` se pueden usar como llave en un diccionario. \n",
    "\n",
    "También son _hasheables_ por defecto todos los objetos de clases creadas por el usuario, puesto que la función `__hash__` retorna un valor único y fijo para cada instancia, y la función `__eq__` devuelve `True` sólo si corresponde exactamente al mismo objeto."
   ]
  },
  {
   "cell_type": "markdown",
   "metadata": {},
   "source": [
    "### Diccionarios en Python\n",
    "\n",
    "En Python, los diccionarios se escriben con `{}` y cada par llave-valor se asocia con `:` como muestra el ejemplo:"
   ]
  },
  {
   "cell_type": "code",
   "execution_count": 9,
   "metadata": {},
   "outputs": [],
   "source": [
    "monedas = {\"Chile\": \"Peso\", \"Perú\": \"Soles\", \"España\": \"Euro\", \"Holanda\": \"Euro\", \"Brasil\": \"Real\"}"
   ]
  },
  {
   "cell_type": "markdown",
   "metadata": {},
   "source": [
    "Los contenidos del diccionario **no están ordenados** según ingreso como ocurre en las tuplas y listas, podrían adoptar cualquier orden. Para acceder a cada valor asociado a cada llave utilizamos la llave como `diccionario[nombre_llave]`:"
   ]
  },
  {
   "cell_type": "code",
   "execution_count": 10,
   "metadata": {},
   "outputs": [
    {
     "data": {
      "text/plain": [
       "'Peso'"
      ]
     },
     "execution_count": 10,
     "metadata": {},
     "output_type": "execute_result"
    }
   ],
   "source": [
    "monedas[\"Chile\"]"
   ]
  },
  {
   "cell_type": "markdown",
   "metadata": {},
   "source": [
    "Los diccionarios son estructuras de datos **mutables**, es decir, su contenido puede cambiar a lo largo del programa. Si se asigna un valor a una llave, existen dos comportamientos posibles. Si la llave no existe, esta se crea y se le asigna un valor:"
   ]
  },
  {
   "cell_type": "code",
   "execution_count": 11,
   "metadata": {},
   "outputs": [
    {
     "name": "stdout",
     "output_type": "stream",
     "text": [
      "{'Chile': 'Peso', 'Perú': 'Soles', 'España': 'Euro', 'Holanda': 'Euro', 'Brasil': 'Real', 'Vaticano': 'Lira'}\n"
     ]
    }
   ],
   "source": [
    "monedas[\"Vaticano\"] = \"Lira\"\n",
    "print(monedas)"
   ]
  },
  {
   "cell_type": "markdown",
   "metadata": {},
   "source": [
    "Si la llave ya existe, se actualiza con el nuevo valor:"
   ]
  },
  {
   "cell_type": "code",
   "execution_count": 12,
   "metadata": {},
   "outputs": [
    {
     "name": "stdout",
     "output_type": "stream",
     "text": [
      "{'Chile': 'Peso', 'Perú': 'Soles', 'España': 'Euro', 'Holanda': 'Euro', 'Brasil': 'Real', 'Vaticano': 'Euro'}\n"
     ]
    }
   ],
   "source": [
    "monedas[\"Vaticano\"] = \"Euro\"\n",
    "print(monedas)"
   ]
  },
  {
   "cell_type": "markdown",
   "metadata": {},
   "source": [
    "Se puede eliminar items desde el diccionario utilizando la sentencia `del` como `del diccionario[<llave>]`:"
   ]
  },
  {
   "cell_type": "code",
   "execution_count": 13,
   "metadata": {},
   "outputs": [
    {
     "name": "stdout",
     "output_type": "stream",
     "text": [
      "{'Chile': 'Peso', 'Perú': 'Soles', 'Holanda': 'Euro', 'Brasil': 'Real', 'Vaticano': 'Euro'}\n"
     ]
    }
   ],
   "source": [
    "del monedas[\"España\"]\n",
    "print(monedas)"
   ]
  },
  {
   "cell_type": "markdown",
   "metadata": {},
   "source": [
    "Se puede comprobar la existencia de una llave en el diccionario utilizando la sentencia `in`. El comportamiento por defecto al utilizar sentencias sobre el diccionario es operar sobre los valores de las llaves. En el caso de `in`, devuelve `True` si la llave requerida existe dentro de las llaves en el diccionario:"
   ]
  },
  {
   "cell_type": "code",
   "execution_count": 14,
   "metadata": {},
   "outputs": [
    {
     "name": "stdout",
     "output_type": "stream",
     "text": [
      "True\n",
      "False\n"
     ]
    }
   ],
   "source": [
    "print('Chile' in monedas)\n",
    "print('Argentina' in monedas)"
   ]
  },
  {
   "cell_type": "markdown",
   "metadata": {},
   "source": [
    "Otra forma consiste en utilizar el método get que posee la clase diccionario. Este método require dos parámetros: la llave buscada y un valor en caso que la llave no exista."
   ]
  },
  {
   "cell_type": "code",
   "execution_count": 18,
   "metadata": {},
   "outputs": [
    {
     "name": "stdout",
     "output_type": "stream",
     "text": [
      "Peso\n",
      "Euro\n",
      "No tiene moneda\n",
      "False\n"
     ]
    }
   ],
   "source": [
    "print(monedas.get('Chile', 'No tiene moneda'))\n",
    "print(monedas.get('Vaticano', 0))\n",
    "print(monedas.get('Argentina', 'No tiene moneda'))\n",
    "print(monedas.get('Colombia', False))"
   ]
  },
  {
   "cell_type": "markdown",
   "metadata": {},
   "source": [
    "Una aplicación típica de esto es el llenado de diccionarios vacíos, como por ejemplo contando letras, debido a que en principio es difícil saber que letras aparecerán y cuántas."
   ]
  },
  {
   "cell_type": "code",
   "execution_count": 8,
   "metadata": {},
   "outputs": [
    {
     "name": "stdout",
     "output_type": "stream",
     "text": [
      "{'a': 3, 'i': 6, 'o': 3, 'e': 2, 'u': 1}\n"
     ]
    }
   ],
   "source": [
    "msg = 'supercalifragilisticoespialidoso'\n",
    "vocales = dict() # Crea un diccionario vacío para contabilizar las letras\n",
    "\n",
    "for v in msg:\n",
    "    if v not in 'aeiou': # Revisa si v es una vocal\n",
    "        continue\n",
    "        \n",
    "    if v not in vocales: # Revisa si v existe en el diccionario, si no la crea en 0\n",
    "        vocales[v] = 0\n",
    "\n",
    "    vocales[v] += 1 # si ya existe, agrega una cuenta mas\n",
    "\n",
    "print(vocales)"
   ]
  },
  {
   "cell_type": "markdown",
   "metadata": {},
   "source": [
    "Tres métodos útiles que existen en los diccionarios son: ```keys()```, ```values()```, y ```items()```. Estos permiten obtener elementos del diccionario a distintos niveles. El resultado de cada uno de estos métodos es una lista con los elementos solicitados."
   ]
  },
  {
   "cell_type": "code",
   "execution_count": 9,
   "metadata": {},
   "outputs": [
    {
     "name": "stdout",
     "output_type": "stream",
     "text": [
      "dict_keys(['brasil', 'peru', 'chile', 'italia', 'españa'])\n",
      "dict_values(['real', 'sol', 'peso', 'euro', 'euro'])\n",
      "dict_items([('brasil', 'real'), ('peru', 'sol'), ('chile', 'peso'), ('italia', 'euro'), ('españa', 'euro')])\n"
     ]
    }
   ],
   "source": [
    "monedas = {'chile':'peso', 'brasil':'real', 'peru':'sol','españa':'euro','italia':'euro'}\n",
    "\n",
    "print(monedas.keys()) # una lista con todas las llaves\n",
    "print(monedas.values()) # una lista con todos los valores\n",
    "print(monedas.items()) # una lista con tuplas de pares llave-valor"
   ]
  },
  {
   "cell_type": "markdown",
   "metadata": {},
   "source": [
    "Estos métodos son prácticos y útiles durante la iteración sobre diccionarios."
   ]
  },
  {
   "cell_type": "code",
   "execution_count": 10,
   "metadata": {},
   "outputs": [
    {
     "name": "stdout",
     "output_type": "stream",
     "text": [
      "Las llaves en el diccionario son las siguientes:\n",
      "brasil\n",
      "peru\n",
      "chile\n",
      "italia\n",
      "españa\n",
      "\n",
      "brasil\n",
      "peru\n",
      "chile\n",
      "italia\n",
      "españa\n"
     ]
    }
   ],
   "source": [
    "print('Las llaves en el diccionario son las siguientes:')\n",
    "\n",
    "for m in monedas.keys():\n",
    "    print('{0}'.format(m))\n",
    "\n",
    "print()\n",
    "for m in monedas: # por defecto recorremos las llaves\n",
    "    print('{0}'.format(m))"
   ]
  },
  {
   "cell_type": "code",
   "execution_count": 11,
   "metadata": {},
   "outputs": [
    {
     "name": "stdout",
     "output_type": "stream",
     "text": [
      "Los valores en el diccionario:\n",
      "real\n",
      "sol\n",
      "peso\n",
      "euro\n",
      "euro\n"
     ]
    }
   ],
   "source": [
    "print('Los valores en el diccionario:')\n",
    "for v in monedas.values():\n",
    "    print('{0}'.format(v))"
   ]
  },
  {
   "cell_type": "code",
   "execution_count": 12,
   "metadata": {},
   "outputs": [
    {
     "name": "stdout",
     "output_type": "stream",
     "text": [
      "Los pares en el diccionario:\n",
      "la moneda de brasil es real\n",
      "la moneda de peru es sol\n",
      "la moneda de chile es peso\n",
      "la moneda de italia es euro\n",
      "la moneda de españa es euro\n"
     ]
    }
   ],
   "source": [
    "print('Los pares en el diccionario:')\n",
    "for k, v in monedas.items():\n",
    "    print('la moneda de {0} es {1}'.format(k,v))"
   ]
  },
  {
   "cell_type": "markdown",
   "metadata": {},
   "source": [
    "## Defaultdicts\n",
    "\n",
    "Los `defaultdict`s son diccionarios que nos permiten asignar un valor por defecto a cada *key* con la que se llama el diccionario. Esto nos ahorra el problema de tener que escribir código preocupándonos de los casos en que el valor que se intenta obtener el diccionario no existe. Otra cualidad importante de los `defaultdics` es que aceptan una función para ser asignada como valor por defecto, la cual puede realizar cualquier acción y retornar cualquier objeto (a ser asignado como valor para el respectivo key en el diccionario).\n",
    " \n",
    "Por ejemplo, supongamos que queremos un diccionario en donde cada elemento nuevo tiene como valor inicial una lista con un string equivalente al número de elementos nuevos insertados hasta el momento en el diccionario:"
   ]
  },
  {
   "cell_type": "code",
   "execution_count": 13,
   "metadata": {},
   "outputs": [
    {
     "name": "stdout",
     "output_type": "stream",
     "text": [
      "['1']\n",
      "['2']\n",
      "['3']\n",
      "['4']\n",
      "['4']\n",
      "['5']\n",
      "defaultdict(<function funcion_ej at 0x7f60081fb730>, {'a': ['1'], 'b': ['2'], 'c': ['3'], 'd': ['4'], 'e': ['5']})\n"
     ]
    }
   ],
   "source": [
    "from collections import defaultdict\n",
    "\n",
    "num_items = 0\n",
    "\n",
    "def funcion_ej():\n",
    "    global num_items\n",
    "    num_items += 1\n",
    "    return ([str(num_items)])\n",
    "\n",
    "d = defaultdict(funcion_ej)\n",
    "\n",
    "print(d['a'])\n",
    "print(d['b'])\n",
    "print(d['c'])\n",
    "print(d['d'])\n",
    "print(d['d'])\n",
    "print(d['e'])\n",
    "\n",
    "print(d)\n",
    "\n"
   ]
  }
 ],
 "metadata": {
  "kernelspec": {
   "display_name": "Python 3",
   "language": "python",
   "name": "python3"
  },
  "language_info": {
   "codemirror_mode": {
    "name": "ipython",
    "version": 3
   },
   "file_extension": ".py",
   "mimetype": "text/x-python",
   "name": "python",
   "nbconvert_exporter": "python",
   "pygments_lexer": "ipython3",
   "version": "3.6.4"
  }
 },
 "nbformat": 4,
 "nbformat_minor": 1
}
